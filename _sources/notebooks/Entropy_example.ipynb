{
 "cells": [
  {
   "cell_type": "markdown",
   "metadata": {
    "toc": true
   },
   "source": [
    "<h1>Entropy<span class=\"tocSkip\"></span></h1>\n",
    "<div class=\"toc\"><ul class=\"toc-item\"><li><span><a href=\"#Computing-entropy-random-signal\" data-toc-modified-id=\"Computing-entropy-random-signal-1\"><span class=\"toc-item-num\">1&nbsp;&nbsp;</span>Computing entropy random signal</a></span><ul class=\"toc-item\"><li><span><a href=\"#other-entropy-funtions\" data-toc-modified-id=\"other-entropy-funtions-1.1\"><span class=\"toc-item-num\">1.1&nbsp;&nbsp;</span>other entropy funtions</a></span></li></ul></li><li><span><a href=\"#Entropy-of-EEG-signal\" data-toc-modified-id=\"Entropy-of-EEG-signal-2\"><span class=\"toc-item-num\">2&nbsp;&nbsp;</span>Entropy of EEG signal</a></span></li></ul></div>"
   ]
  },
  {
   "cell_type": "markdown",
   "metadata": {},
   "source": [
    "## Computing entropy random signal"
   ]
  },
  {
   "cell_type": "code",
   "execution_count": 51,
   "metadata": {
    "ExecuteTime": {
     "end_time": "2022-01-15T05:17:07.168732Z",
     "start_time": "2022-01-15T05:17:07.162122Z"
    }
   },
   "outputs": [
    {
     "data": {
      "text/plain": [
       "'0.0.9.4'"
      ]
     },
     "execution_count": 51,
     "metadata": {},
     "output_type": "execute_result"
    }
   ],
   "source": [
    "import numpy as np\n",
    "import matplotlib.pyplot as plt\n",
    "import pandas as pd\n",
    "import spkit as sp\n",
    "sp.__version__"
   ]
  },
  {
   "cell_type": "code",
   "execution_count": 40,
   "metadata": {
    "ExecuteTime": {
     "end_time": "2022-01-15T05:08:47.552966Z",
     "start_time": "2022-01-15T05:08:46.314851Z"
    }
   },
   "outputs": [
    {
     "data": {
      "image/png": "[encoded data removed]",
      "text/plain": [
       "<Figure size 864x360 with 2 Axes>"
      ]
     },
     "metadata": {
      "needs_background": "light"
     },
     "output_type": "display_data"
    }
   ],
   "source": [
    "x = np.random.rand(1000)\n",
    "y = np.random.randn(1000)\n",
    "\n",
    "plt.figure(figsize=(12,5))\n",
    "plt.subplot(121)\n",
    "sp.HistPlot(x,show=False)\n",
    "plt.title(r'x ~ $U(0,1)$')\n",
    "plt.ylabel('counts')\n",
    "plt.xlabel('x')\n",
    "plt.subplot(122)\n",
    "sp.HistPlot(y,show=False)\n",
    "plt.title(r'y ~ $N(0,1)$')\n",
    "plt.ylabel('counts')\n",
    "plt.xlabel('y')\n",
    "plt.show()"
   ]
  },
  {
   "cell_type": "code",
   "execution_count": 41,
   "metadata": {
    "ExecuteTime": {
     "end_time": "2022-01-15T05:08:52.837619Z",
     "start_time": "2022-01-15T05:08:52.810723Z"
    }
   },
   "outputs": [
    {
     "name": "stdout",
     "output_type": "stream",
     "text": [
      "Shannan entropy\n",
      "---------------\n",
      "Entropy of x: H(x) =  3.3099186173010606\n",
      "Entropy of y: H(y) =  3.954125044004315\n",
      "-\n",
      "Rényi entropy\n",
      "---------------\n",
      "Entropy of x: H(x) =  3.2983462626847766\n",
      "Entropy of y: H(y) =  3.7270356287262256\n",
      "-\n",
      "Mutual Information I(x,y)  = \t 0.11967403367033924\n",
      "Joint Entropy H(x,y)       = \t 7.144369627635037\n",
      "-\n",
      "Conditional Entropy of : H(x|y) =  3.1902445836307214\n",
      "Conditional Entropy of : H(y|x) =  3.834451010333976\n",
      "-\n",
      "Cross Entropy of : H(x,y)              = \t 12.308876524726335\n",
      "Kullback–Leibler divergence : Dkl(x,y) = \t 6.1379138504220485\n"
     ]
    }
   ],
   "source": [
    "#Shannan entropy\n",
    "H_x= sp.entropy(x,alpha=1)\n",
    "H_y= sp.entropy(y,alpha=1)\n",
    "\n",
    "#Rényi entropy\n",
    "Hr_x= sp.entropy(x,alpha=2)\n",
    "Hr_y= sp.entropy(y,alpha=2)\n",
    "\n",
    "H_xy= sp.entropy_joint(x,y)\n",
    "\n",
    "H_x1y= sp.entropy_cond(x,y)\n",
    "H_y1x= sp.entropy_cond(y,x)\n",
    "\n",
    "I_xy = sp.mutual_Info(x,y)\n",
    "\n",
    "H_xy_cross= sp.entropy_cross(x,y)\n",
    "\n",
    "D_xy= sp.entropy_kld(x,y)\n",
    "\n",
    "\n",
    "print('Shannan entropy')\n",
    "print('---------------')\n",
    "print('Entropy of x: H(x) = ',H_x)\n",
    "print('Entropy of y: H(y) = ',H_y)\n",
    "print('-')\n",
    "print('Rényi entropy')\n",
    "print('---------------')\n",
    "print('Entropy of x: H(x) = ',Hr_x)\n",
    "print('Entropy of y: H(y) = ',Hr_y)\n",
    "print('-')\n",
    "print('Mutual Information I(x,y)  = \\t',I_xy)\n",
    "print('Joint Entropy H(x,y)       = \\t',H_xy)\n",
    "print('-')\n",
    "print('Conditional Entropy of : H(x|y) = ',H_x1y)\n",
    "print('Conditional Entropy of : H(y|x) = ',H_y1x)\n",
    "print('-')\n",
    "print('Cross Entropy of : H(x,y)              = \\t',H_xy_cross)\n",
    "print('Kullback–Leibler divergence : Dkl(x,y) = \\t',D_xy)"
   ]
  },
  {
   "cell_type": "markdown",
   "metadata": {},
   "source": [
    "### other entropy funtions"
   ]
  },
  {
   "cell_type": "code",
   "execution_count": 49,
   "metadata": {
    "ExecuteTime": {
     "end_time": "2022-01-15T05:11:58.659656Z",
     "start_time": "2022-01-15T05:11:39.303916Z"
    }
   },
   "outputs": [],
   "source": [
    "Hx_se = sp.entropy_spectral(x,fs=1,method='fft')\n",
    "Hx_sam = sp.entropy_sample(x,m=4,r=0.2*np.std(x))\n",
    "Hx_apx = sp.entropy_approx(x,m=4,r=0.2*np.std(x))\n",
    "Hx_svd = sp.entropy_svd(x,order=3, delay=1)\n",
    "Hx_prm = sp.entropy_permutation(x,order=3, delay=1)\n",
    "\n",
    "\n",
    "Hy_se = sp.entropy_spectral(y,fs=1,method='fft')\n",
    "Hy_sam = sp.entropy_sample(y,m=4,r=0.2*np.std(y))\n",
    "Hy_apx = sp.entropy_approx(y,m=4,r=0.2*np.std(y))\n",
    "Hy_svd = sp.entropy_svd(y,order=3, delay=1)\n",
    "Hy_prm = sp.entropy_permutation(y,order=3, delay=1)"
   ]
  },
  {
   "cell_type": "code",
   "execution_count": 62,
   "metadata": {
    "ExecuteTime": {
     "end_time": "2022-01-15T05:24:42.078737Z",
     "start_time": "2022-01-15T05:24:42.073750Z"
    }
   },
   "outputs": [],
   "source": [
    "HX = [H_x,Hr_x,Hx_se,Hx_sam,Hx_apx, Hx_svd, Hx_prm]\n",
    "HY = [H_y,Hr_y,Hy_se,Hy_sam,Hy_apx, Hy_svd, Hy_prm]\n",
    "C1 =  ['Shannan entropy', 'Rényi entropy','Spectral entropy','Sample entropy',\n",
    "      'Approximate entropy','SVD entropy','Permutation entropy']"
   ]
  },
  {
   "cell_type": "code",
   "execution_count": 63,
   "metadata": {
    "ExecuteTime": {
     "end_time": "2022-01-15T05:24:43.624202Z",
     "start_time": "2022-01-15T05:24:43.603391Z"
    }
   },
   "outputs": [
    {
     "data": {
      "text/html": [
       "<div>\n",
       "<style scoped>\n",
       "    .dataframe tbody tr th:only-of-type {\n",
       "        vertical-align: middle;\n",
       "    }\n",
       "\n",
       "    .dataframe tbody tr th {\n",
       "        vertical-align: top;\n",
       "    }\n",
       "\n",
       "    .dataframe thead th {\n",
       "        text-align: right;\n",
       "    }\n",
       "</style>\n",
       "<table border=\"1\" class=\"dataframe\">\n",
       "  <thead>\n",
       "    <tr style=\"text-align: right;\">\n",
       "      <th></th>\n",
       "      <th>x</th>\n",
       "      <th>y</th>\n",
       "    </tr>\n",
       "  </thead>\n",
       "  <tbody>\n",
       "    <tr>\n",
       "      <th>Shannan entropy</th>\n",
       "      <td>3.309919</td>\n",
       "      <td>3.954125</td>\n",
       "    </tr>\n",
       "    <tr>\n",
       "      <th>Rényi entropy</th>\n",
       "      <td>3.298346</td>\n",
       "      <td>3.727036</td>\n",
       "    </tr>\n",
       "    <tr>\n",
       "      <th>Spectral entropy</th>\n",
       "      <td>0.745156</td>\n",
       "      <td>0.693282</td>\n",
       "    </tr>\n",
       "    <tr>\n",
       "      <th>Sample entropy</th>\n",
       "      <td>2.264364</td>\n",
       "      <td>2.460809</td>\n",
       "    </tr>\n",
       "    <tr>\n",
       "      <th>Approximate entropy</th>\n",
       "      <td>0.091753</td>\n",
       "      <td>0.098248</td>\n",
       "    </tr>\n",
       "    <tr>\n",
       "      <th>SVD entropy</th>\n",
       "      <td>1.354216</td>\n",
       "      <td>1.584883</td>\n",
       "    </tr>\n",
       "    <tr>\n",
       "      <th>Permutation entropy</th>\n",
       "      <td>2.581670</td>\n",
       "      <td>2.584228</td>\n",
       "    </tr>\n",
       "  </tbody>\n",
       "</table>\n",
       "</div>"
      ],
      "text/plain": [
       "                            x         y\n",
       "Shannan entropy      3.309919  3.954125\n",
       "Rényi entropy        3.298346  3.727036\n",
       "Spectral entropy     0.745156  0.693282\n",
       "Sample entropy       2.264364  2.460809\n",
       "Approximate entropy  0.091753  0.098248\n",
       "SVD entropy          1.354216  1.584883\n",
       "Permutation entropy  2.581670  2.584228"
      ]
     },
     "metadata": {},
     "output_type": "display_data"
    }
   ],
   "source": [
    "display(pd.DataFrame(np.c_[HX, HY],index=C1, columns=['x','y']))"
   ]
  },
  {
   "cell_type": "code",
   "execution_count": 64,
   "metadata": {
    "ExecuteTime": {
     "end_time": "2022-01-15T05:25:05.865562Z",
     "start_time": "2022-01-15T05:25:05.859416Z"
    }
   },
   "outputs": [],
   "source": [
    "HXY = [I_xy, H_xy, H_x1y, H_y1x, H_xy_cross, D_xy]\n",
    "C2   = ['Mutual Information: I(x,y)', 'Joint Entropy: H(x,y)', 'Conditional Entropy: H(x|y)',\n",
    "      'Conditional Entropy: H(y|x)','Cross Entropy: H(x,y)', 'Kullback–Leibler divergence : Dkl(x,y)']"
   ]
  },
  {
   "cell_type": "code",
   "execution_count": 65,
   "metadata": {
    "ExecuteTime": {
     "end_time": "2022-01-15T05:25:07.751687Z",
     "start_time": "2022-01-15T05:25:07.741645Z"
    }
   },
   "outputs": [
    {
     "data": {
      "text/html": [
       "<div>\n",
       "<style scoped>\n",
       "    .dataframe tbody tr th:only-of-type {\n",
       "        vertical-align: middle;\n",
       "    }\n",
       "\n",
       "    .dataframe tbody tr th {\n",
       "        vertical-align: top;\n",
       "    }\n",
       "\n",
       "    .dataframe thead th {\n",
       "        text-align: right;\n",
       "    }\n",
       "</style>\n",
       "<table border=\"1\" class=\"dataframe\">\n",
       "  <thead>\n",
       "    <tr style=\"text-align: right;\">\n",
       "      <th></th>\n",
       "      <th>x,y</th>\n",
       "    </tr>\n",
       "  </thead>\n",
       "  <tbody>\n",
       "    <tr>\n",
       "      <th>Mutual Information: I(x,y)</th>\n",
       "      <td>0.119674</td>\n",
       "    </tr>\n",
       "    <tr>\n",
       "      <th>Joint Entropy: H(x,y)</th>\n",
       "      <td>7.144370</td>\n",
       "    </tr>\n",
       "    <tr>\n",
       "      <th>Conditional Entropy: H(x|y)</th>\n",
       "      <td>3.190245</td>\n",
       "    </tr>\n",
       "    <tr>\n",
       "      <th>Conditional Entropy: H(y|x)</th>\n",
       "      <td>3.834451</td>\n",
       "    </tr>\n",
       "    <tr>\n",
       "      <th>Cross Entropy: H(x,y)</th>\n",
       "      <td>12.308877</td>\n",
       "    </tr>\n",
       "    <tr>\n",
       "      <th>Kullback–Leibler divergence : Dkl(x,y)</th>\n",
       "      <td>6.137914</td>\n",
       "    </tr>\n",
       "  </tbody>\n",
       "</table>\n",
       "</div>"
      ],
      "text/plain": [
       "                                              x,y\n",
       "Mutual Information: I(x,y)               0.119674\n",
       "Joint Entropy: H(x,y)                    7.144370\n",
       "Conditional Entropy: H(x|y)              3.190245\n",
       "Conditional Entropy: H(y|x)              3.834451\n",
       "Cross Entropy: H(x,y)                   12.308877\n",
       "Kullback–Leibler divergence : Dkl(x,y)   6.137914"
      ]
     },
     "metadata": {},
     "output_type": "display_data"
    }
   ],
   "source": [
    "display(pd.DataFrame(np.c_[HXY],index=C2, columns=['x,y']))"
   ]
  },
  {
   "cell_type": "markdown",
   "metadata": {},
   "source": [
    "## Entropy of EEG signal"
   ]
  },
  {
   "cell_type": "code",
   "execution_count": 66,
   "metadata": {
    "ExecuteTime": {
     "end_time": "2022-01-15T05:25:24.134576Z",
     "start_time": "2022-01-15T05:25:24.130586Z"
    }
   },
   "outputs": [],
   "source": [
    "from spkit.data import load_data"
   ]
  },
  {
   "cell_type": "code",
   "execution_count": 67,
   "metadata": {
    "ExecuteTime": {
     "end_time": "2022-01-15T05:25:24.514838Z",
     "start_time": "2022-01-15T05:25:24.506886Z"
    }
   },
   "outputs": [
    {
     "name": "stdout",
     "output_type": "stream",
     "text": [
      "(2048, 14)\n",
      "['AF3', 'F7', 'F3', 'FC5', 'T7', 'P7', 'O1', 'O2', 'P8', 'T8', 'FC6', 'F4', 'F8', 'AF4']\n"
     ]
    }
   ],
   "source": [
    "X,ch_names = load_data.eegSample()\n",
    "print(X.shape)\n",
    "print(ch_names)"
   ]
  },
  {
   "cell_type": "code",
   "execution_count": 68,
   "metadata": {
    "ExecuteTime": {
     "end_time": "2022-01-15T05:25:28.525671Z",
     "start_time": "2022-01-15T05:25:28.462747Z"
    }
   },
   "outputs": [
    {
     "name": "stdout",
     "output_type": "stream",
     "text": [
      "Shannan entropy\n",
      "Entropy of x1: H(x1) =\t  4.811416424350645\n",
      "Entropy of x2: H(x2) =\t  4.697278111823318\n",
      "-\n",
      "Rényi entropy\n",
      "Entropy of x1: H(x1) =\t  4.239955818998481\n",
      "Entropy of x2: H(x2) =\t  4.145472461333239\n",
      "-\n",
      "Joint Entropy H(x1,x2) =\t 3.655513859907648\n",
      "Mutual Information I(x1,x2) =\t 1.1559025644429965\n",
      "Conditional Entropy of : H(x1|x2) =\t 3.655513859907648\n",
      "Conditional Entropy of : H(x2|x1) =\t 3.541375547380321\n",
      "-\n",
      "Cross Entropy of : H(x1,x2) =\t 5.686498222841184\n",
      "Kullback–Leibler divergence : Dkl(x1,x2) =\t 0.7202757885313226\n"
     ]
    }
   ],
   "source": [
    "x1 =X[:,0] #'AF3' - Frontal Lobe\n",
    "x2 =X[:,6] #'O1'  - Occipital Lobe\n",
    "#Shannan entropy\n",
    "H_x1= sp.entropy(x1,alpha=1)\n",
    "H_x2= sp.entropy(x2,alpha=1)\n",
    "\n",
    "#Rényi entropy\n",
    "Hr_x1= sp.entropy(x1,alpha=2)\n",
    "Hr_x2= sp.entropy(x2,alpha=2)\n",
    "\n",
    "#Joint entropy\n",
    "H_x12= sp.entropy_joint(x1,x2)\n",
    "\n",
    "#Conditional Entropy\n",
    "H_x12= sp.entropy_cond(x1,x2)\n",
    "H_x21= sp.entropy_cond(x2,x1)\n",
    "\n",
    "#Mutual Entropy\n",
    "I_x12 = sp.mutual_Info(x1,x2)\n",
    "\n",
    "#Cross Entropy\n",
    "H_x12_cross= sp.entropy_cross(x1,x2)\n",
    "\n",
    "#Diff Entropy\n",
    "D_x12= sp.entropy_kld(x1,x2)\n",
    "\n",
    "\n",
    "print('Shannan entropy')\n",
    "print('Entropy of x1: H(x1) =\\t ',H_x1)\n",
    "print('Entropy of x2: H(x2) =\\t ',H_x2)\n",
    "print('-')\n",
    "print('Rényi entropy')\n",
    "print('Entropy of x1: H(x1) =\\t ',Hr_x1)\n",
    "print('Entropy of x2: H(x2) =\\t ',Hr_x2)\n",
    "print('-')\n",
    "print('Joint Entropy H(x1,x2) =\\t',H_x12)\n",
    "print('Mutual Information I(x1,x2) =\\t',I_x12)\n",
    "print('Conditional Entropy of : H(x1|x2) =\\t',H_x12)\n",
    "print('Conditional Entropy of : H(x2|x1) =\\t',H_x21)\n",
    "print('-')\n",
    "print('Cross Entropy of : H(x1,x2) =\\t',H_x12_cross)\n",
    "print('Kullback–Leibler divergence : Dkl(x1,x2) =\\t',D_x12)"
   ]
  }
 ],
 "metadata": {
  "kernelspec": {
   "display_name": "Python 3 (ipykernel)",
   "language": "python",
   "name": "python3"
  },
  "language_info": {
   "codemirror_mode": {
    "name": "ipython",
    "version": 3
   },
   "file_extension": ".py",
   "mimetype": "text/x-python",
   "name": "python",
   "nbconvert_exporter": "python",
   "pygments_lexer": "ipython3",
   "version": "3.8.8"
  },
  "toc": {
   "base_numbering": 1,
   "nav_menu": {},
   "number_sections": true,
   "sideBar": true,
   "skip_h1_title": true,
   "title_cell": "Entropy",
   "title_sidebar": "Contents",
   "toc_cell": true,
   "toc_position": {
    "height": "calc(100% - 180px)",
    "left": "10px",
    "top": "150px",
    "width": "199px"
   },
   "toc_section_display": true,
   "toc_window_display": true
  }
 },
 "nbformat": 4,
 "nbformat_minor": 2
}
